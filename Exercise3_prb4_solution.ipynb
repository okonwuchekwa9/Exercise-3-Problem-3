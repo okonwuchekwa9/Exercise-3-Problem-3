{
 "cells": [
  {
   "cell_type": "markdown",
   "metadata": {},
   "source": [
    "### The goal is to generate stars and dashes."
   ]
  },
  {
   "cell_type": "code",
   "execution_count": 5,
   "metadata": {},
   "outputs": [],
   "source": [
    "# *******------------\n",
    "# *******------------\n",
    "# *******------------\n",
    "# -------------------\n",
    "# -------------------"
   ]
  },
  {
   "cell_type": "code",
   "execution_count": 4,
   "metadata": {},
   "outputs": [
    {
     "name": "stdout",
     "output_type": "stream",
     "text": [
      "line\n",
      "line\n",
      "line\n",
      "line\n",
      "line\n"
     ]
    }
   ],
   "source": [
    "for line in range(5):\n",
    "    print('line')"
   ]
  },
  {
   "cell_type": "code",
   "execution_count": 7,
   "metadata": {},
   "outputs": [
    {
     "name": "stdout",
     "output_type": "stream",
     "text": [
      "*******------------\n",
      "*******------------\n",
      "*******------------\n",
      "-------------------\n",
      "-------------------\n"
     ]
    }
   ],
   "source": [
    "for line in range(5):\n",
    "    if (line < 3):\n",
    "        # print a line with 7 stars and 12 dashes\n",
    "        print(7 * '*' + 12 * '-')\n",
    "    else:\n",
    "        # print a line with 19 dashes\n",
    "        print(19 * '-')"
   ]
  },
  {
   "cell_type": "code",
   "execution_count": 8,
   "metadata": {},
   "outputs": [
    {
     "name": "stdout",
     "output_type": "stream",
     "text": [
      "********************--------------------------------------------------\n",
      "********************--------------------------------------------------\n",
      "********************--------------------------------------------------\n",
      "----------------------------------------------------------------------\n",
      "----------------------------------------------------------------------\n"
     ]
    }
   ],
   "source": [
    "for line in range(5):\n",
    "    if (line < 3):\n",
    "        # print a line with 7 stars and 12 dashes\n",
    "        print(20 * '*' + 50 * '-')\n",
    "    else:\n",
    "        # print a line with 19 dashes\n",
    "        print(70 * '-')"
   ]
  },
  {
   "cell_type": "code",
   "execution_count": 9,
   "metadata": {},
   "outputs": [
    {
     "name": "stdout",
     "output_type": "stream",
     "text": [
      "**************************************************------------------------------\n",
      "**************************************************------------------------------\n",
      "**************************************************------------------------------\n",
      "**************************************************------------------------------\n",
      "**************************************************------------------------------\n"
     ]
    }
   ],
   "source": [
    "for line in range(5):\n",
    "        print(50 * '*' + 30 * '-')\n",
    "    "
   ]
  },
  {
   "cell_type": "code",
   "execution_count": 14,
   "metadata": {},
   "outputs": [
    {
     "name": "stdout",
     "output_type": "stream",
     "text": [
      "*******------------\n",
      "*******------------\n",
      "*******------------\n",
      "-------------------\n",
      "-------------------\n",
      "\n"
     ]
    }
   ],
   "source": [
    "flag = ''\n",
    "for line in range(5):\n",
    "    if (line < 3):\n",
    "        # print a line with 7 stars and 12 dashes\n",
    "        # print(7 * '*' + 12 * '-')\n",
    "        flag = flag + (7 * '*' + 12 * '-' + '\\n')\n",
    "    else:\n",
    "        # print a line with 19 dashes\n",
    "        # print(19 * '-')\n",
    "        flag = flag + (19 * '-' + '\\n')\n",
    "print(flag)"
   ]
  },
  {
   "cell_type": "code",
   "execution_count": 16,
   "metadata": {},
   "outputs": [
    {
     "name": "stdout",
     "output_type": "stream",
     "text": [
      "*******------------\n",
      "*******------------\n",
      "*******------------\n",
      "-------------------\n",
      "-------------------\n"
     ]
    }
   ],
   "source": [
    "flag = ''\n",
    "for line in range(5):\n",
    "    if (line < 3):\n",
    "        # print a line with 7 stars and 12 dashes\n",
    "        # print(7 * '*' + 12 * '-')\n",
    "        flag = flag + (7 * '*' + 12 * '-' + '\\n')\n",
    "    else:\n",
    "        # print a line with 19 dashes\n",
    "        # print(19 * '-')\n",
    "        flag = flag + (19 * '-' + '\\n')\n",
    "print(flag, end='')"
   ]
  },
  {
   "cell_type": "code",
   "execution_count": null,
   "metadata": {},
   "outputs": [],
   "source": []
  }
 ],
 "metadata": {
  "kernelspec": {
   "display_name": "Python 3",
   "language": "python",
   "name": "python3"
  },
  "language_info": {
   "codemirror_mode": {
    "name": "ipython",
    "version": 3
   },
   "file_extension": ".py",
   "mimetype": "text/x-python",
   "name": "python",
   "nbconvert_exporter": "python",
   "pygments_lexer": "ipython3",
   "version": "3.8.3"
  }
 },
 "nbformat": 4,
 "nbformat_minor": 4
}
